{
 "cells": [
  {
   "cell_type": "markdown",
   "metadata": {},
   "source": [
    "Хамгийн сайн цагт хувьцаа худалдаж авах ба зарах II\n",
    "\n",
    "Таньд prices нэртэй тооны жагсаалт өгөгдсөн байна. Энд prices[i] нь i-р өдрийн хувьцааны үнэ юм.\n",
    "\n",
    "Тухайн өдрөөс та хувьцааг худалдаж авах эсвэл зарах шийдвэрийг гаргаж болно. Та хамгийн ихдээ нэг хувьцаа эзэмших эрхтэй байна. Гэхдээ та хувьцааг худалдан авсан даруйдаа зарах боломжтой.\n",
    "\n",
    "Таны зорилго бол хамгийн их ашиг олох боломжтой хугацаа болон арга замыг олох явдал юм."
   ]
  },
  {
   "cell_type": "code",
   "execution_count": null,
   "metadata": {},
   "outputs": [
    {
     "name": "stdout",
     "output_type": "stream",
     "text": [
      "Хамгийн их ашиг: 7\n"
     ]
    }
   ],
   "source": [
    "from typing import List\n",
    "\n",
    "class Solution:\n",
    "    def maxProfit(self, prices: List[int]) -> int:\n",
    "        max_profit = 0\n",
    "        \n",
    "        for i in range(1, len(prices)):\n",
    "            if prices[i] > prices[i - 1]:\n",
    "                max_profit += prices[i] - prices[i - 1]\n",
    "        \n",
    "        return max_profit\n",
    "\n",
    "st = Solution()\n",
    "print(f\"Хамгийн их ашиг: {st.maxProfit([7,1,5,3,6,4])}\")"
   ]
  }
 ],
 "metadata": {
  "kernelspec": {
   "display_name": "Python 3",
   "language": "python",
   "name": "python3"
  },
  "language_info": {
   "codemirror_mode": {
    "name": "ipython",
    "version": 3
   },
   "file_extension": ".py",
   "mimetype": "text/x-python",
   "name": "python",
   "nbconvert_exporter": "python",
   "pygments_lexer": "ipython3",
   "version": "3.12.3"
  }
 },
 "nbformat": 4,
 "nbformat_minor": 2
}
