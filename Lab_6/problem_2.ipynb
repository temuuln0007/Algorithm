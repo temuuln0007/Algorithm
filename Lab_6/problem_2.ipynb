{
 "cells": [
  {
   "cell_type": "markdown",
   "metadata": {},
   "source": [
    "Эрэмбэлэгдсэн n ширхэг хайлтын түлхүүр агуулсан k жагсаалт болон түлхүүр бүрийн хайгдсан тоог агуулсан f жагсаалт өгөгджээ.\n",
    "Тэгвэл нийт түлхүүрийн хувьд хайлтын хамгийн бага өртгийг ол.\n",
    "Жишээлбэл, n = 2, k = {5, 6}, f = {17, 25} бол хамгийн бага өртөг\n",
    "нь 59. Учир нь оройн утга нь 5 (5–6) бол c = 17 ∗ 1 + 25 ∗ 2 = 67\n",
    "болно. Харин 6 бол (6–5) c = 25 ∗ 1 + 17 ∗ 2 = 59 болно."
   ]
  },
  {
   "cell_type": "code",
   "execution_count": 2,
   "metadata": {},
   "outputs": [
    {
     "name": "stdout",
     "output_type": "stream",
     "text": [
      "Хамгийн бага өртөг: 59\n"
     ]
    }
   ],
   "source": [
    "def find_minimum_cost(k, f):\n",
    "    n = len(k)\n",
    "    greTrue = 0\n",
    "    greFalse = 0\n",
    "\n",
    "    f.sort()\n",
    "    for i in range(n):\n",
    "        greFalse += f[i] * (i + 1)\n",
    "\n",
    "    f.sort(reverse=True) \n",
    "    for i in range(n):\n",
    "        greTrue += f[i] * (i + 1)\n",
    "        \n",
    "    return greTrue if greTrue < greFalse else greFalse\n",
    "\n",
    "k = [5, 6]\n",
    "f = [17, 25]\n",
    "\n",
    "minCost = find_minimum_cost(k, f)\n",
    "print(f\"Хамгийн бага өртөг: {minCost}\") "
   ]
  }
 ],
 "metadata": {
  "kernelspec": {
   "display_name": "Python 3",
   "language": "python",
   "name": "python3"
  },
  "language_info": {
   "codemirror_mode": {
    "name": "ipython",
    "version": 3
   },
   "file_extension": ".py",
   "mimetype": "text/x-python",
   "name": "python",
   "nbconvert_exporter": "python",
   "pygments_lexer": "ipython3",
   "version": "3.12.3"
  }
 },
 "nbformat": 4,
 "nbformat_minor": 2
}
