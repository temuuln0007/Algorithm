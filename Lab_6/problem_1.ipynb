{
 "cells": [
  {
   "cell_type": "markdown",
   "metadata": {},
   "source": [
    "Асуудал: Тодорхой нэг n бүхэл тоо өгөгдсөн үед, 1-ээс n хүртэлх уникаль утгуудыг ашиглан үүсгэх боломжтой структурын хувьд уникаль бинар хайлтын моддын (BST) тоог буцааж өгөх хэрэгтэй.\n",
    "\n",
    "n = 3 гэж тооцоолох:  Гаралт = 5\n",
    "\n",
    "Tree 1:        Tree 2:        Tree 3:        Tree 4:        Tree 5:\n",
    "    1             1               2              3             3\n",
    "     \\              \\            / \\            /             /\n",
    "      2              3          1   3         2             1\n",
    "        \\           /                       /                 \\\n",
    "         3        2                        1                    2"
   ]
  },
  {
   "cell_type": "code",
   "execution_count": 5,
   "metadata": {},
   "outputs": [
    {
     "name": "stdout",
     "output_type": "stream",
     "text": [
      "Number of unique BSTs: 5\n",
      "Number of unique BSTs: 1\n"
     ]
    }
   ],
   "source": [
    "def numTrees(n):\n",
    "    # Base cases\n",
    "    if n == 0 or n == 1:\n",
    "        return 1\n",
    "    \n",
    "    result = 0\n",
    "    for root in range(1, n + 1):\n",
    "        left = numTrees(root - 1)\n",
    "        right = numTrees(n - root)\n",
    "        result += left * right\n",
    "    \n",
    "    return result\n",
    "\n",
    "print(\"Number of unique BSTs:\", numTrees(3))  \n",
    "print(\"Number of unique BSTs:\", numTrees(1))  "
   ]
  },
  {
   "cell_type": "code",
   "execution_count": 4,
   "metadata": {},
   "outputs": [
    {
     "name": "stdout",
     "output_type": "stream",
     "text": [
      "Number of unique BSTs: 5\n",
      "Number of unique BSTs: 1\n"
     ]
    }
   ],
   "source": [
    "class Solution:\n",
    "    def numTrees(self, n: int) -> int:\n",
    "            dp = [0] * (n + 1)\n",
    "    \n",
    "            dp[0] = 1 \n",
    "            dp[1] = 1\n",
    "            \n",
    "            for i in range(2, n + 1):\n",
    "                for j in range(1, i + 1):\n",
    "                    dp[i] += dp[j - 1] * dp[i - j]\n",
    "                    # print(\"dp[i] : \", i, dp[i])\n",
    "            \n",
    "            return dp[n] \n",
    "    \n",
    "st = Solution()\n",
    "print(\"Number of unique BSTs:\", st.numTrees(3))  \n",
    "print(\"Number of unique BSTs:\", st.numTrees(1))  "
   ]
  }
 ],
 "metadata": {
  "kernelspec": {
   "display_name": "Python 3",
   "language": "python",
   "name": "python3"
  },
  "language_info": {
   "codemirror_mode": {
    "name": "ipython",
    "version": 3
   },
   "file_extension": ".py",
   "mimetype": "text/x-python",
   "name": "python",
   "nbconvert_exporter": "python",
   "pygments_lexer": "ipython3",
   "version": "3.12.3"
  }
 },
 "nbformat": 4,
 "nbformat_minor": 2
}
