{
 "cells": [
  {
   "cell_type": "code",
   "execution_count": 13,
   "metadata": {},
   "outputs": [
    {
     "name": "stdout",
     "output_type": "stream",
     "text": [
      "True\n",
      "True\n",
      "True\n",
      "False\n",
      "True\n"
     ]
    }
   ],
   "source": [
    "class Solution:\n",
    "    def checkValidString(s) -> bool:\n",
    "        left_min = left_max = 0\n",
    "        for char in s:\n",
    "            if char == '(':\n",
    "                left_min += 1\n",
    "                left_max += 1\n",
    "            elif char == ')':\n",
    "                left_min = max(left_min - 1, 0)\n",
    "                left_max -= 1\n",
    "            else:  # '*'\n",
    "                left_min = max(left_min - 1, 0)\n",
    "                left_max += 1\n",
    "\n",
    "            if left_max < 0:\n",
    "                return False\n",
    "        return left_min == 0\n",
    "\n",
    "print(Solution.checkValidString(\"()\"))  \n",
    "print(Solution.checkValidString(\"(*)\")) \n",
    "print(Solution.checkValidString(\"(*))\"))\n",
    "print(Solution.checkValidString(\")(\")) \n",
    "print(Solution.checkValidString(\"* )\"))"
   ]
  },
  {
   "cell_type": "markdown",
   "metadata": {},
   "source": [
    "1. Аль ч зүүн хаалт '(' нь тохирох баруун хаалт ')'-тэй байх ёстой.\n",
    "2. Аль ч баруун хаалт ')' нь тохирох зүүн хаалт '('-тэй байх ёстой.\n",
    "3. Зүүн хаалт '(' нь үргэлж тохирох баруун хаалт ')'-аас өмнө байх ёстой.\n",
    "4. '*' тэмдэгт нь дараах байдлаар тайлбарлагдаж болно:\n",
    "    - Нэг баруун хаалт ')',\n",
    "    - Нэг зүүн хаалт '(',\n",
    "    - Хоосон тэмдэгт \"\"."
   ]
  },
  {
   "cell_type": "code",
   "execution_count": null,
   "metadata": {},
   "outputs": [
    {
     "name": "stdout",
     "output_type": "stream",
     "text": [
      "True\n",
      "True\n",
      "True\n",
      "False\n",
      "True\n"
     ]
    }
   ],
   "source": [
    "class Solution:\n",
    "    def checkValidString(s):\n",
    "        def dfs(index, balance):\n",
    "            if balance < 0:\n",
    "                return False\n",
    "\n",
    "            if index == len(s):\n",
    "                return True\n",
    "            \n",
    "            if s[index] == '(':\n",
    "                return dfs(index + 1, balance + 1)  \n",
    "            elif s[index] == ')':\n",
    "                return dfs(index + 1, balance - 1)  \n",
    "            else: #   ' * '\n",
    "                return (dfs(index + 1, balance + 1) or dfs(index + 1, balance - 1) or dfs(index + 1, balance))\n",
    "        \n",
    "        return dfs(0, 0)\n",
    "\n",
    "print(Solution.checkValidString(\"()\"))  \n",
    "print(Solution.checkValidString(\"(*)\")) \n",
    "print(Solution.checkValidString(\"(*))\"))\n",
    "print(Solution.checkValidString(\")(\")) \n",
    "print(Solution.checkValidString(\"* )\"))"
   ]
  }
 ],
 "metadata": {
  "kernelspec": {
   "display_name": "Python 3",
   "language": "python",
   "name": "python3"
  },
  "language_info": {
   "codemirror_mode": {
    "name": "ipython",
    "version": 3
   },
   "file_extension": ".py",
   "mimetype": "text/x-python",
   "name": "python",
   "nbconvert_exporter": "python",
   "pygments_lexer": "ipython3",
   "version": "3.12.3"
  }
 },
 "nbformat": 4,
 "nbformat_minor": 2
}
