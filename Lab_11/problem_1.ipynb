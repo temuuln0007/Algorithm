{
 "cells": [
  {
   "cell_type": "markdown",
   "metadata": {},
   "source": [
    "Танд row x col хэмжээтэй тор өгөгдсөн бөгөөд энэ нь газрын зургийг илэрхийлдэг. Энд grid[i][j] = 1 нь газрыг, grid[i][j] = 0 нь усыг илэрхийлнэ."
   ]
  },
  {
   "cell_type": "markdown",
   "metadata": {},
   "source": [
    "    1\n",
    "   / \\\n",
    "  2   3\n",
    " / \\\n",
    "4   5\n",
    "BFS-ийг 1-ээс эхэлбэл: 1 → 2 → 3 → 4 → 5\n",
    "DFS-ийг 1-ээс эхэлбэл: 1 → 2 → 4 → 5 → 3"
   ]
  },
  {
   "cell_type": "code",
   "execution_count": 5,
   "metadata": {},
   "outputs": [
    {
     "name": "stdout",
     "output_type": "stream",
     "text": [
      "0 3\n",
      "1 9\n",
      "2 11\n",
      "3 16\n",
      "16\n"
     ]
    },
    {
     "data": {
      "text/plain": [
       "'\\n0, 1, 0, 0\\n1, 1, 1, 0\\n0, 1, 0, 0\\n1, 1, 0, 0\\n'"
      ]
     },
     "execution_count": 5,
     "metadata": {},
     "output_type": "execute_result"
    }
   ],
   "source": [
    "def islandPerimeter(grid):\n",
    "    rows, cols = len(grid), len(grid[0])\n",
    "    perimeter = 0\n",
    "\n",
    "    for i in range(rows):\n",
    "        for j in range(cols):\n",
    "            if grid[i][j] == 1:\n",
    "                if i == 0 or grid[i - 1][j] == 0:  # deeguur shalgah\n",
    "                    perimeter += 1\n",
    "                if i == rows - 1 or grid[i + 1][j] == 0:  # dooguur shalgah\n",
    "                    perimeter += 1\n",
    "                if j == 0 or grid[i][j - 1] == 0:  # zuun talaar shalgah\n",
    "                    perimeter += 1\n",
    "                if j == cols - 1 or grid[i][j + 1] == 0:  # baruun talaar shalgah\n",
    "                    perimeter += 1\n",
    "        print(i, perimeter)\n",
    "    return perimeter\n",
    "\n",
    "grid = [[0, 1, 0, 0], [1, 1, 1, 0], [0, 1, 0, 0], [1, 1, 0, 0]]\n",
    "print(islandPerimeter(grid))\n",
    "\n",
    "'''\n",
    "0, 1, 0, 0\n",
    "1, 1, 1, 0\n",
    "0, 1, 0, 0\n",
    "1, 1, 0, 0\n",
    "'''"
   ]
  },
  {
   "cell_type": "code",
   "execution_count": null,
   "metadata": {},
   "outputs": [
    {
     "name": "stdout",
     "output_type": "stream",
     "text": [
      "16\n"
     ]
    }
   ],
   "source": [
    "def islandPerimeter(grid):\n",
    "    def dfs(i, j):\n",
    "        if i < 0 or j < 0 or i >= len(grid) or j >= len(grid[0]) or grid[i][j] == 0:\n",
    "            return 1\n",
    "        if grid[i][j] == -1:\n",
    "            return 0\n",
    "        \n",
    "        # zochilsnoor temdeglen\n",
    "        grid[i][j] = -1\n",
    "        \n",
    "        perimeter = dfs(i - 1, j) + dfs(i + 1, j) + dfs(i, j - 1) + dfs(i, j + 1)\n",
    "        return perimeter\n",
    "\n",
    "    for i in range(len(grid)):\n",
    "        for j in range(len(grid[0])):\n",
    "            if grid[i][j] == 1: \n",
    "                return dfs(i, j) \n",
    "\n",
    "grid = [[0, 1, 0, 0], [1, 1, 1, 0], [0, 1, 0, 0], [1, 1, 0, 0]]\n",
    "print(islandPerimeter(grid)) \n"
   ]
  }
 ],
 "metadata": {
  "kernelspec": {
   "display_name": "Python 3",
   "language": "python",
   "name": "python3"
  },
  "language_info": {
   "codemirror_mode": {
    "name": "ipython",
    "version": 3
   },
   "file_extension": ".py",
   "mimetype": "text/x-python",
   "name": "python",
   "nbconvert_exporter": "python",
   "pygments_lexer": "ipython3",
   "version": "3.12.3"
  }
 },
 "nbformat": 4,
 "nbformat_minor": 2
}
