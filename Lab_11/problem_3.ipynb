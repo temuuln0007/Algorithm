{
 "cells": [
  {
   "cell_type": "markdown",
   "metadata": {},
   "source": [
    "Танд 4 дугуйтай түгжээ байгаа бөгөөд тус бүр нь 10 орон зайтай: '0', '1', '2', '3', '4', '5', '6', '7', '8', '9'. Дугуйнууд чөлөөтэй эргэлдэж, тойроод эргэлдэнэ: жишээ нь, '9'-г '0'-д шилжүүлэх эсвэл '0'-г '9'-д шилжүүлэх боломжтой. Тус бүрийн нэг хөдөлгөөн нь нэг дугуйг нэг орон зайгаар эргүүлэхээс бүрдэнэ.\n",
    "\n",
    "Түгжээ нь анх '0000' гэсэн утгаар эхэлнэ, энэ нь 4 дугуйны байршлыг илэрхийлнэ.\n",
    "\n",
    "Та deadends гэсэн утгатай нэг жагсаалтыг өгч байна, энэ нь хэрэв түгжээ эдгээр кодуудаас аль нэгийг харуулбал, түгжээний дугуйнууд эргэлдэхээ болино гэсэн үг.\n",
    "\n",
    "Танд unlock хийхэд шаардлагатай хамгийн бага нийт эргэлтүүдийн тоог буцааж өгөх ёстой эсвэл бололцоогүй бол -1 буцаах ёстой."
   ]
  },
  {
   "cell_type": "code",
   "execution_count": null,
   "metadata": {},
   "outputs": [
    {
     "name": "stdout",
     "output_type": "stream",
     "text": [
      "deque([('0000', 0)])\n",
      "6\n"
     ]
    }
   ],
   "source": [
    "from collections import deque\n",
    "\n",
    "def openLock(deadends, target):\n",
    "    dead_set = set(deadends)\n",
    "    \n",
    "    if \"0000\" in dead_set:\n",
    "        return -1\n",
    "    \n",
    "    # anhni tolov bolon algam\n",
    "    queue = deque([(\"0000\", 0)])\n",
    "    print(queue)\n",
    "    visited = set()  # zochilson tolovuudig hadgalna\n",
    "    visited.add(\"0000\")\n",
    "    \n",
    "    while queue:\n",
    "        state, steps = queue.popleft()\n",
    "        #print(state, steps)\n",
    "        \n",
    "        # end\n",
    "        if state == target:\n",
    "            return steps\n",
    "        \n",
    "        for i in range(4):  \n",
    "            digit = int(state[i])\n",
    "            \n",
    "            # dugui +1\n",
    "            next_up = state[:i] + str((digit + 1) % 10) + state[i+1:]\n",
    "            # dugui -1\n",
    "            next_down = state[:i] + str((digit - 1) % 10) + state[i+1:]\n",
    "            \n",
    "            if next_up not in visited and next_up not in dead_set:\n",
    "                queue.append((next_up, steps + 1))\n",
    "                visited.add(next_up)\n",
    "            \n",
    "            if next_down not in visited and next_down not in dead_set:\n",
    "                queue.append((next_down, steps + 1))\n",
    "                visited.add(next_down)\n",
    "    \n",
    "    return -1\n",
    "\n",
    "deadends = [\"0201\",\"0101\",\"0102\",\"1212\",\"2002\"]\n",
    "target = \"0202\"\n",
    "print(openLock(deadends, target))"
   ]
  }
 ],
 "metadata": {
  "kernelspec": {
   "display_name": "Python 3",
   "language": "python",
   "name": "python3"
  },
  "language_info": {
   "codemirror_mode": {
    "name": "ipython",
    "version": 3
   },
   "file_extension": ".py",
   "mimetype": "text/x-python",
   "name": "python",
   "nbconvert_exporter": "python",
   "pygments_lexer": "ipython3",
   "version": "3.12.3"
  }
 },
 "nbformat": 4,
 "nbformat_minor": 2
}
