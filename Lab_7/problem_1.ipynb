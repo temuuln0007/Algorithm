{
 "cells": [
  {
   "cell_type": "markdown",
   "metadata": {},
   "source": [
    "n тооны бараа тус бүрийн үнэ болон жин өгөгджээ. Тэгвэл тэдгээр бараанаас w багтаамжтай үүргэвчинд цуглуулахдаа нийлбэр\n",
    "нь хамгийн их байхаар сонго. 5-р хичээлийн хоёрдугаар бодлогоос\n",
    "ялгаатай нь хэрэв тухайн бараа үүргэвчинд багтахгүй бол хувааж\n",
    "болно. (Үүнийг fractional knapsack гэдэг.)"
   ]
  },
  {
   "cell_type": "code",
   "execution_count": null,
   "metadata": {},
   "outputs": [
    {
     "name": "stdout",
     "output_type": "stream",
     "text": [
      "Үүргэвчинд цуглуулсан хамгийн их нийлбэр :  240.0\n"
     ]
    }
   ],
   "source": [
    "def bag(w, weights, values):\n",
    "    n = len(weights)\n",
    "    items = []\n",
    "    \n",
    "    for i in range(n):\n",
    "        items.append((values[i] / weights[i], weights[i], values[i])) \n",
    "        \n",
    "    items.sort(reverse=True, key=lambda x: x[0])\n",
    "        \n",
    "    totalProfit = 0\n",
    "    remainingCapacity = w\n",
    "\n",
    "    for item in items:\n",
    "        if remainingCapacity >= item[1]:\n",
    "            totalProfit += item[2]\n",
    "            remainingCapacity -= item[1]\n",
    "        else:\n",
    "            totalProfit += item[2] * (remainingCapacity / item[1])\n",
    "            break \n",
    "\n",
    "    return totalProfit\n",
    "\n",
    "weights = [10, 20, 30] \n",
    "values = [60, 100, 120] \n",
    "w = 50  \n",
    "\n",
    "print(\"Үүргэвчинд цуглуулсан хамгийн их нийлбэр : \", bag(w, weights, values)) "
   ]
  }
 ],
 "metadata": {
  "kernelspec": {
   "display_name": "Python 3",
   "language": "python",
   "name": "python3"
  },
  "language_info": {
   "codemirror_mode": {
    "name": "ipython",
    "version": 3
   },
   "file_extension": ".py",
   "mimetype": "text/x-python",
   "name": "python",
   "nbconvert_exporter": "python",
   "pygments_lexer": "ipython3",
   "version": "3.12.3"
  }
 },
 "nbformat": 4,
 "nbformat_minor": 2
}
