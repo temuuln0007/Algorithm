{
 "cells": [
  {
   "cell_type": "markdown",
   "metadata": {},
   "source": [
    "Хамгийн бага интервалыг тооцоол"
   ]
  },
  {
   "cell_type": "code",
   "execution_count": null,
   "metadata": {},
   "outputs": [
    {
     "name": "stdout",
     "output_type": "stream",
     "text": [
      "8\n"
     ]
    }
   ],
   "source": [
    "from typing import List\n",
    "\n",
    "class Solution:\n",
    "    def leastInterval(self, tasks: List[str], n: int) -> int:\n",
    "        freq = [0] * 26\n",
    "        #print(freq)\n",
    "\n",
    "        for task in tasks:\n",
    "            freq[ord(task) - ord('A')] += 1\n",
    "        \n",
    "        freq.sort(reverse=True)\n",
    "\n",
    "        max_freq = freq[0]\n",
    "        num_max_freq_tasks = freq.count(max_freq) \n",
    "        \n",
    "        intervals = max(len(tasks), (max_freq - 1) * (n + 1) + num_max_freq_tasks)\n",
    "        \n",
    "        return intervals\n",
    "\n",
    "st = Solution()\n",
    "print(st.leastInterval([\"A\",\"A\",\"A\",\"B\",\"B\",\"B\"], 2))"
   ]
  }
 ],
 "metadata": {
  "kernelspec": {
   "display_name": "Python 3",
   "language": "python",
   "name": "python3"
  },
  "language_info": {
   "codemirror_mode": {
    "name": "ipython",
    "version": 3
   },
   "file_extension": ".py",
   "mimetype": "text/x-python",
   "name": "python",
   "nbconvert_exporter": "python",
   "pygments_lexer": "ipython3",
   "version": "3.12.3"
  }
 },
 "nbformat": 4,
 "nbformat_minor": 2
}
